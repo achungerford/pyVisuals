{
 "cells": [
  {
   "cell_type": "markdown",
   "metadata": {},
   "source": [
    "# Crash Course Python Ch. 7 - User Input & While Loops"
   ]
  },
  {
   "cell_type": "markdown",
   "metadata": {},
   "source": [
    "## accepting user input\n",
    "`input()` function pauses your program and waits for the user to enter text. When python gets the text, it stores it in a variable. `input()` accepts everything as a string."
   ]
  },
  {
   "cell_type": "code",
   "execution_count": 1,
   "metadata": {},
   "outputs": [
    {
     "name": "stdin",
     "output_type": "stream",
     "text": [
      "Tell me which player the Lakers got from New Orleans and I'll repeat it back to you:  Anthony Davis\n"
     ]
    },
    {
     "name": "stdout",
     "output_type": "stream",
     "text": [
      "Anthony Davis\n"
     ]
    }
   ],
   "source": [
    "response = input(\"Tell me which player the Lakers got from New Orleans and I'll repeat it back to you: \")\n",
    "print(response)"
   ]
  },
  {
   "cell_type": "code",
   "execution_count": 2,
   "metadata": {},
   "outputs": [
    {
     "name": "stdin",
     "output_type": "stream",
     "text": [
      "Tell us your name and we can personalize the messages you see.\n",
      "What is your first name?  Anthony\n"
     ]
    }
   ],
   "source": [
    "# creating instructions for user input\n",
    "prompt = \"Tell us your name and we can personalize the messages you see.\"\n",
    "prompt += '\\nWhat is your first name? '\n",
    "\n",
    "# pass instructions into input(), store in name\n",
    "name = input(prompt)"
   ]
  },
  {
   "cell_type": "markdown",
   "metadata": {},
   "source": [
    "## accepting numerical input\n",
    "\n",
    "`int()` accepts integers. This is useful when you want to utilize the user's input."
   ]
  },
  {
   "cell_type": "code",
   "execution_count": 3,
   "metadata": {},
   "outputs": [
    {
     "name": "stdin",
     "output_type": "stream",
     "text": [
      "How old are you?  15\n"
     ]
    },
    {
     "name": "stdout",
     "output_type": "stream",
     "text": [
      "You can vote when you turn 18.\n"
     ]
    }
   ],
   "source": [
    "age = input('How old are you? ')\n",
    "age = int(age)\n",
    "\n",
    "if age >= 18:\n",
    "    print('You can vote!')\n",
    "else:\n",
    "    print('You can vote when you turn 18.')"
   ]
  },
  {
   "cell_type": "markdown",
   "metadata": {},
   "source": [
    "## While Loops\n",
    "\n",
    "The loop runs as long as a certain condition is true."
   ]
  },
  {
   "cell_type": "code",
   "execution_count": 26,
   "metadata": {},
   "outputs": [
    {
     "name": "stdout",
     "output_type": "stream",
     "text": [
      "1\n",
      "2\n",
      "3\n",
      "4\n",
      "5\n"
     ]
    }
   ],
   "source": [
    "# initialize a varialbe\n",
    "current_number = 1\n",
    "\n",
    "while current_number <= 5:\n",
    "    # tasks to perform each loop\n",
    "    print(current_number)\n",
    "    # increment the counter by 1\n",
    "    current_number += 1"
   ]
  },
  {
   "cell_type": "markdown",
   "metadata": {},
   "source": [
    "#### While Loop: accepting input & allowing the user to choose when to quit."
   ]
  },
  {
   "cell_type": "code",
   "execution_count": 31,
   "metadata": {},
   "outputs": [
    {
     "name": "stdin",
     "output_type": "stream",
     "text": [
      "\n",
      "Tell me something and I will repeat it. Enter 'quit' to end the program.\n",
      " Lakers beat Celtics\n"
     ]
    },
    {
     "name": "stdout",
     "output_type": "stream",
     "text": [
      "Lakers beat Celtics\n"
     ]
    },
    {
     "name": "stdin",
     "output_type": "stream",
     "text": [
      "\n",
      "Tell me something and I will repeat it. Enter 'quit' to end the program.\n",
      " Cool\n"
     ]
    },
    {
     "name": "stdout",
     "output_type": "stream",
     "text": [
      "Cool\n"
     ]
    },
    {
     "name": "stdin",
     "output_type": "stream",
     "text": [
      "\n",
      "Tell me something and I will repeat it. Enter 'quit' to end the program.\n",
      " quit\n"
     ]
    }
   ],
   "source": [
    "# define a prompt\n",
    "prompt = '\\nTell me something and I will repeat it. '\n",
    "prompt += \"Enter 'quit' to end the program.\\n\"\n",
    "\n",
    "# set up a variable (empty string) to store whatever value the user enters\n",
    "# this gives message an initial value\n",
    "message = \"\"\n",
    "\n",
    "# so long as user input does not equal 'quit'\n",
    "while message != 'quit':\n",
    "    message = input(prompt)\n",
    "    \n",
    "    # stop the loop from printing out 'quit' as a message, end program instead\n",
    "    if message != 'quit':\n",
    "        print(message)"
   ]
  },
  {
   "cell_type": "markdown",
   "metadata": {},
   "source": [
    "Above, we nested an if-test inside the while loop to make sure the program simply quit upon 'quit' instead of repeating the phrase."
   ]
  },
  {
   "cell_type": "code",
   "execution_count": null,
   "metadata": {},
   "outputs": [],
   "source": []
  }
 ],
 "metadata": {
  "kernelspec": {
   "display_name": "Python 3",
   "language": "python",
   "name": "python3"
  },
  "language_info": {
   "codemirror_mode": {
    "name": "ipython",
    "version": 3
   },
   "file_extension": ".py",
   "mimetype": "text/x-python",
   "name": "python",
   "nbconvert_exporter": "python",
   "pygments_lexer": "ipython3",
   "version": "3.7.1"
  }
 },
 "nbformat": 4,
 "nbformat_minor": 2
}
