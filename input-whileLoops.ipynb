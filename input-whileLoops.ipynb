{
 "cells": [
  {
   "cell_type": "markdown",
   "metadata": {},
   "source": [
    "# Crash Course Python Ch. 7 - User Input & While Loops"
   ]
  },
  {
   "cell_type": "markdown",
   "metadata": {},
   "source": [
    "## accepting user input\n",
    "`input()` function pauses your program and waits for the user to enter text. When python gets the text, it stores it in a variable. `input()` accepts everything as a string."
   ]
  },
  {
   "cell_type": "code",
   "execution_count": 1,
   "metadata": {},
   "outputs": [
    {
     "name": "stdin",
     "output_type": "stream",
     "text": [
      "Tell me which player the Lakers got from New Orleans and I'll repeat it back to you:  AD\n"
     ]
    },
    {
     "name": "stdout",
     "output_type": "stream",
     "text": [
      "AD\n"
     ]
    }
   ],
   "source": [
    "response = input(\"Tell me which player the Lakers got from New Orleans and I'll repeat it back to you: \")\n",
    "print(response)"
   ]
  },
  {
   "cell_type": "code",
   "execution_count": 2,
   "metadata": {},
   "outputs": [
    {
     "name": "stdin",
     "output_type": "stream",
     "text": [
      "Tell us your name and we can personalize the messages you see.\n",
      "What is your first name?  Anthony\n"
     ]
    }
   ],
   "source": [
    "# creating instructions for user input\n",
    "prompt = \"Tell us your name and we can personalize the messages you see.\"\n",
    "prompt += '\\nWhat is your first name? '\n",
    "\n",
    "# pass instructions into input(), store in name\n",
    "name = input(prompt)"
   ]
  },
  {
   "cell_type": "markdown",
   "metadata": {},
   "source": [
    "## accepting numerical input\n",
    "\n",
    "`int()` accepts integers. This is useful when you want to utilize the user's input."
   ]
  },
  {
   "cell_type": "code",
   "execution_count": 3,
   "metadata": {},
   "outputs": [
    {
     "name": "stdin",
     "output_type": "stream",
     "text": [
      "How old are you?  26\n"
     ]
    },
    {
     "name": "stdout",
     "output_type": "stream",
     "text": [
      "You can vote!\n"
     ]
    }
   ],
   "source": [
    "age = input('How old are you? ')\n",
    "age = int(age)\n",
    "\n",
    "if age >= 18:\n",
    "    print('You can vote!')\n",
    "else:\n",
    "    print('You can vote when you turn 18.')"
   ]
  },
  {
   "cell_type": "markdown",
   "metadata": {},
   "source": [
    "## While Loops\n",
    "\n",
    "The loop runs as long as a certain condition is true."
   ]
  },
  {
   "cell_type": "code",
   "execution_count": 4,
   "metadata": {},
   "outputs": [
    {
     "name": "stdout",
     "output_type": "stream",
     "text": [
      "1\n",
      "2\n",
      "3\n",
      "4\n",
      "5\n"
     ]
    }
   ],
   "source": [
    "# initialize a varialbe\n",
    "current_number = 1\n",
    "\n",
    "while current_number <= 5:\n",
    "    # tasks to perform each loop\n",
    "    print(current_number)\n",
    "    # increment the counter by 1\n",
    "    current_number += 1"
   ]
  },
  {
   "cell_type": "markdown",
   "metadata": {},
   "source": [
    "#### While Loop: accepting input & allowing the user to choose when to quit."
   ]
  },
  {
   "cell_type": "code",
   "execution_count": 5,
   "metadata": {},
   "outputs": [
    {
     "name": "stdin",
     "output_type": "stream",
     "text": [
      "\n",
      "Tell me something and I will repeat it. Enter 'quit' to end the program.\n",
      " Lakers win\n"
     ]
    },
    {
     "name": "stdout",
     "output_type": "stream",
     "text": [
      "Lakers win\n"
     ]
    },
    {
     "name": "stdin",
     "output_type": "stream",
     "text": [
      "\n",
      "Tell me something and I will repeat it. Enter 'quit' to end the program.\n",
      " quit\n"
     ]
    }
   ],
   "source": [
    "# define a prompt\n",
    "prompt = '\\nTell me something and I will repeat it. '\n",
    "prompt += \"Enter 'quit' to end the program.\\n\"\n",
    "\n",
    "# set up a variable (empty string) to store whatever value the user enters\n",
    "# this gives message an initial value\n",
    "message = \"\"\n",
    "\n",
    "# so long as user input does not equal 'quit'\n",
    "while message != 'quit':\n",
    "    message = input(prompt)\n",
    "    \n",
    "    # stop the loop from printing out 'quit' as a message, end program instead\n",
    "    if message != 'quit':\n",
    "        print(message)"
   ]
  },
  {
   "cell_type": "markdown",
   "metadata": {},
   "source": [
    "Above, we nested an if-test inside the while loop to make sure the program simply quit upon 'quit' instead of repeating the phrase."
   ]
  },
  {
   "cell_type": "markdown",
   "metadata": {},
   "source": [
    "#### While Loops: testing many conditions at the same time"
   ]
  },
  {
   "cell_type": "markdown",
   "metadata": {},
   "source": [
    "If many possible events might occur to stop the program, trying to test all these conditions in one *while* statement becomes complicated and difficult. For a program that should run only as long as many conditions are true, you can define one variable that determines whether or not the entire program is active. This variable is called a `flag`. \n",
    "\n",
    "A `flag` acts as a signal to the program. We can wrtie our programs so they run while the flag is `True` and stop when any of the events is `False`. That way, our *while* loop only needs to check one condition -- whether or not the flag is currently true. That way, all our other tests can be neatly organized."
   ]
  },
  {
   "cell_type": "code",
   "execution_count": 6,
   "metadata": {},
   "outputs": [
    {
     "name": "stdin",
     "output_type": "stream",
     "text": [
      "\n",
      "Tell me something and I will repeat it. Enter 'quit' to end the program.\n",
      " 18 banners\n"
     ]
    },
    {
     "name": "stdout",
     "output_type": "stream",
     "text": [
      "18 banners\n"
     ]
    },
    {
     "name": "stdin",
     "output_type": "stream",
     "text": [
      "\n",
      "Tell me something and I will repeat it. Enter 'quit' to end the program.\n",
      " quit\n"
     ]
    }
   ],
   "source": [
    "# define a prompt\n",
    "prompt = '\\nTell me something and I will repeat it. '\n",
    "prompt += \"Enter 'quit' to end the program.\\n\"\n",
    "\n",
    "# set active to True so program starts in an active state\n",
    "active = True\n",
    "\n",
    "# as long as active remains True, loop will run\n",
    "while active:\n",
    "    message = input(prompt)\n",
    "    \n",
    "    # we check the value of the user's message, anything other than quit, print message\n",
    "    # if user enters quit, set the flag to False and loop stops\n",
    "    if message == 'quit':\n",
    "        active = False\n",
    "    else:\n",
    "        print(message)"
   ]
  },
  {
   "cell_type": "markdown",
   "metadata": {},
   "source": [
    "### Break statement\n",
    "\n",
    "To exit a while loop immediately without running any remaining code in the loop, regardless of the conditional tests, use a `break` statement."
   ]
  },
  {
   "cell_type": "code",
   "execution_count": 9,
   "metadata": {},
   "outputs": [
    {
     "name": "stdin",
     "output_type": "stream",
     "text": [
      "\n",
      "Tell me a city you visited: Enter 'quit' to end the program.\n",
      " Vegas\n"
     ]
    },
    {
     "name": "stdout",
     "output_type": "stream",
     "text": [
      "I would love to visit Vegas!\n"
     ]
    },
    {
     "name": "stdin",
     "output_type": "stream",
     "text": [
      "\n",
      "Tell me a city you visited: Enter 'quit' to end the program.\n",
      " quit\n"
     ]
    }
   ],
   "source": [
    "# define a prompt\n",
    "prompt = '\\nTell me a city you visited: '\n",
    "prompt += \"Enter 'quit' to end the program.\\n\"\n",
    "\n",
    "while True:\n",
    "    city = input(prompt)\n",
    "    \n",
    "    if city == 'quit':\n",
    "        break\n",
    "    else:\n",
    "        print('I would love to visit ' + city.title() + \"!\")"
   ]
  },
  {
   "cell_type": "markdown",
   "metadata": {},
   "source": [
    "### Continue statement\n",
    "Rather than breaking out of a loop entirely without executing the rest of the code, you can use the `continue` statement to return to the beginning of the loop based on the result of a conditional."
   ]
  },
  {
   "cell_type": "code",
   "execution_count": 13,
   "metadata": {},
   "outputs": [
    {
     "name": "stdout",
     "output_type": "stream",
     "text": [
      "1\n",
      "3\n",
      "5\n",
      "7\n",
      "9\n"
     ]
    }
   ],
   "source": [
    "# make a loop that counts to 10, but only prints odd numbers\n",
    "\n",
    "current_number = 0\n",
    "\n",
    "while current_number < 10:\n",
    "    \n",
    "    # add one to current number\n",
    "    current_number += 1\n",
    "    \n",
    "    # if even, go back to start of the loop\n",
    "    if current_number % 2 == 0:\n",
    "        continue\n",
    "    # if odd, print\n",
    "    print(current_number)"
   ]
  },
  {
   "cell_type": "markdown",
   "metadata": {},
   "source": [
    "### Avoiding Infinite Loops\n",
    "\n",
    "`CTRL + C` will get you out of an infinite loop in python.\n",
    "\n",
    "If you want your program to end when the user enters a certain input value, run the program and enter that value. If the program doesn't end, scrutinize why. Make sure at least one part of the program can make the loop's condition `False` or cause it to reach a break statement."
   ]
  },
  {
   "cell_type": "code",
   "execution_count": null,
   "metadata": {},
   "outputs": [],
   "source": []
  }
 ],
 "metadata": {
  "kernelspec": {
   "display_name": "Python 3",
   "language": "python",
   "name": "python3"
  },
  "language_info": {
   "codemirror_mode": {
    "name": "ipython",
    "version": 3
   },
   "file_extension": ".py",
   "mimetype": "text/x-python",
   "name": "python",
   "nbconvert_exporter": "python",
   "pygments_lexer": "ipython3",
   "version": "3.7.1"
  }
 },
 "nbformat": 4,
 "nbformat_minor": 2
}
