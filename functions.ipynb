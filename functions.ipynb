{
 "cells": [
  {
   "cell_type": "markdown",
   "metadata": {},
   "source": [
    "# Python Crash Course: Ch. 8 - Functions"
   ]
  },
  {
   "cell_type": "markdown",
   "metadata": {},
   "source": [
    "#### Create a function.\n",
    "\n",
    "`def` tells python you're defining a function. The function definition tells python the name of the function, and if any arguments are needed. The comment in 3 double quotes `\"\"\"docstring\"\"\"` is called a `docstring`. A docstring should explain what your function does."
   ]
  },
  {
   "cell_type": "code",
   "execution_count": 5,
   "metadata": {},
   "outputs": [],
   "source": [
    "# here's a function nammed 'greet_user' that prints a greeting\n",
    "\n",
    "def greet_user():\n",
    "    \"\"\"display a message\"\"\"    # docstring describes what the function does.\n",
    "    print(\"Hello user!\")"
   ]
  },
  {
   "cell_type": "markdown",
   "metadata": {},
   "source": [
    "#### Call the function you created."
   ]
  },
  {
   "cell_type": "code",
   "execution_count": 8,
   "metadata": {},
   "outputs": [
    {
     "name": "stdout",
     "output_type": "stream",
     "text": [
      "Hello user!\n"
     ]
    }
   ],
   "source": [
    "# call the function\n",
    "greet_user()"
   ]
  },
  {
   "cell_type": "markdown",
   "metadata": {},
   "source": [
    "#### Functions with Arguments"
   ]
  },
  {
   "cell_type": "code",
   "execution_count": 25,
   "metadata": {},
   "outputs": [
    {
     "name": "stdout",
     "output_type": "stream",
     "text": [
      "Hello King_James, welcome to Cleveland.\n"
     ]
    }
   ],
   "source": [
    "def greet_user(username, city):\n",
    "    \"\"\"personalized greeting\"\"\"\n",
    "    print(\"Hello \" + username.title() + \", welcome to \" + city + \".\")\n",
    "\n",
    "greet_user('king_james', 'Cleveland')"
   ]
  },
  {
   "cell_type": "code",
   "execution_count": 26,
   "metadata": {},
   "outputs": [
    {
     "name": "stdout",
     "output_type": "stream",
     "text": [
      "Hello Kobe, welcome to Los Angeles.\n",
      "Hello Anthony_Davis, welcome to California.\n"
     ]
    }
   ],
   "source": [
    "# You can call a function as many times as you need\n",
    "\n",
    "greet_user('kobe', 'Los Angeles')\n",
    "greet_user('anthony_davis', 'California')"
   ]
  },
  {
   "cell_type": "markdown",
   "metadata": {},
   "source": [
    "### Keyword Arguments\n",
    "\n",
    "A `keyword argument` is a name-value pair that you pass to a function. In a keyword argument, you explicitly associate the name and the value within the argument. This way, you don't have to worry about having arguments in the correct order."
   ]
  },
  {
   "cell_type": "code",
   "execution_count": 27,
   "metadata": {},
   "outputs": [
    {
     "name": "stdout",
     "output_type": "stream",
     "text": [
      "\n",
      "I have a hamster.\n",
      "My hamster's name is Harry\n"
     ]
    }
   ],
   "source": [
    "def describe_pet(animal_type, pet_name):\n",
    "    \"\"\"Display info about a pet.\"\"\"\n",
    "    print('\\nI have a ' + animal_type + \".\")\n",
    "    print('My ' + animal_type + \"'s name is \" + pet_name.title())\n",
    "\n",
    "describe_pet(animal_type = 'hamster', pet_name = 'harry')"
   ]
  },
  {
   "cell_type": "code",
   "execution_count": 28,
   "metadata": {},
   "outputs": [
    {
     "name": "stdout",
     "output_type": "stream",
     "text": [
      "\n",
      "I have a hamster.\n",
      "My hamster's name is Harry\n",
      "\n",
      "I have a hamster.\n",
      "My hamster's name is Harry\n"
     ]
    }
   ],
   "source": [
    "# can switch the order when you use keyword arguments\n",
    "\n",
    "describe_pet(animal_type = 'hamster', pet_name = 'harry')\n",
    "describe_pet(pet_name = 'harry', animal_type = 'hamster')"
   ]
  },
  {
   "cell_type": "markdown",
   "metadata": {},
   "source": [
    "### Assigning Default Values for Arguments\n",
    "\n",
    "If an argument for a parameter is present in the fucntion call, Python uses that value. If not, it uses the parameter's default value. Note that the order of the arguments still matters."
   ]
  },
  {
   "cell_type": "code",
   "execution_count": 33,
   "metadata": {},
   "outputs": [
    {
     "name": "stdout",
     "output_type": "stream",
     "text": [
      "\n",
      "I have a dog.\n",
      "My dog's name is Fiona\n",
      "\n",
      "I have a dog.\n",
      "My dog's name is Percy\n"
     ]
    }
   ],
   "source": [
    "def describe_pet(pet_name, animal_type = 'dog'):\n",
    "    \"\"\"Display info about a pet.\"\"\"\n",
    "    print('\\nI have a ' + animal_type + \".\")\n",
    "    print('My ' + animal_type + \"'s name is \" + pet_name.title())\n",
    "\n",
    "describe_pet(pet_name = 'fiona')\n",
    "describe_pet(pet_name = 'percy')"
   ]
  },
  {
   "cell_type": "markdown",
   "metadata": {},
   "source": [
    "Python can ignore default values if you want it to. However, when using default values, any aprameter with a default value needs to be listed **after** all the parameters that don't have default values."
   ]
  },
  {
   "cell_type": "code",
   "execution_count": 34,
   "metadata": {},
   "outputs": [
    {
     "name": "stdout",
     "output_type": "stream",
     "text": [
      "\n",
      "I have a cat.\n",
      "My cat's name is Lewis\n"
     ]
    }
   ],
   "source": [
    "describe_pet(pet_name = 'Lewis', animal_type = 'cat')"
   ]
  },
  {
   "cell_type": "code",
   "execution_count": null,
   "metadata": {},
   "outputs": [],
   "source": []
  }
 ],
 "metadata": {
  "kernelspec": {
   "display_name": "Python 3",
   "language": "python",
   "name": "python3"
  },
  "language_info": {
   "codemirror_mode": {
    "name": "ipython",
    "version": 3
   },
   "file_extension": ".py",
   "mimetype": "text/x-python",
   "name": "python",
   "nbconvert_exporter": "python",
   "pygments_lexer": "ipython3",
   "version": "3.7.1"
  }
 },
 "nbformat": 4,
 "nbformat_minor": 2
}
